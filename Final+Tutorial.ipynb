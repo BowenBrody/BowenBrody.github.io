{
 "cells": [
  {
   "cell_type": "markdown",
   "metadata": {},
   "source": [
    "# Asteroid Impact Data\n",
    "#### Brody Bowen\n",
    "\n",
    "![alt text](https://cdn.images.express.co.uk/img/dynamic/galleries/x701/146248.jpg \"Impact Imminent\")"
   ]
  },
  {
   "cell_type": "markdown",
   "metadata": {
    "collapsed": true
   },
   "source": [
    "## Introduction\n",
    "\n",
    "Like most people, you may enjoy daily life and your continued existence on this big, blue ball we call home. The dinosaurs probably felt the same way, but their luck ran out when an asteroid, as many scientists believe, came to Earth and wiped them all out. You might feel like that was so long ago and that nothing like that could happen to us nowadays, but how true is that? Lucky for you, you can dig deeper with this tutorial where we will be sending a dataset containing information on asteroids with collision potential through the data science pipleine in order try and discover trends among these asteroids as well as the type of asteroids that have higher collision chances with Earth. \n",
    "\n",
    "## Loading Our Data\n",
    "\n",
    "The first step in analysing a dataset is actually loading the dataset into a variable so we can view its contents and manipulate it. Go to the page at https://www.kaggle.com/nasa/asteroid-impacts/data and click the download button which will download the impacts.csv file. This \"comma-separated values\" file requires a bit of extra work for us to be able to extract the data. In order to use this file, first you'll need to copy it into the same folder as the one your notebook is in, and then you'll need to import the pandas python library in order to turn the csv into a dataframe. To learn more about the Pandas libarary visit this link http://pandas.pydata.org. The following code below demonstrates this process."
   ]
  },
  {
   "cell_type": "code",
   "execution_count": 1,
   "metadata": {
    "scrolled": true
   },
   "outputs": [
    {
     "data": {
      "text/html": [
       "<div>\n",
       "<table border=\"1\" class=\"dataframe\">\n",
       "  <thead>\n",
       "    <tr style=\"text-align: right;\">\n",
       "      <th></th>\n",
       "      <th>Object Name</th>\n",
       "      <th>Period Start</th>\n",
       "      <th>Period End</th>\n",
       "      <th>Possible Impacts</th>\n",
       "      <th>Cumulative Impact Probability</th>\n",
       "      <th>Asteroid Velocity</th>\n",
       "      <th>Asteroid Magnitude</th>\n",
       "      <th>Asteroid Diameter (km)</th>\n",
       "      <th>Cumulative Palermo Scale</th>\n",
       "      <th>Maximum Palermo Scale</th>\n",
       "      <th>Maximum Torino Scale</th>\n",
       "    </tr>\n",
       "  </thead>\n",
       "  <tbody>\n",
       "    <tr>\n",
       "      <th>0</th>\n",
       "      <td>2006 WP1</td>\n",
       "      <td>2017</td>\n",
       "      <td>2017</td>\n",
       "      <td>1</td>\n",
       "      <td>5.200000e-09</td>\n",
       "      <td>17.77</td>\n",
       "      <td>28.3</td>\n",
       "      <td>0.007</td>\n",
       "      <td>-8.31</td>\n",
       "      <td>-8.31</td>\n",
       "      <td>0</td>\n",
       "    </tr>\n",
       "    <tr>\n",
       "      <th>1</th>\n",
       "      <td>2013 YB</td>\n",
       "      <td>2017</td>\n",
       "      <td>2046</td>\n",
       "      <td>23</td>\n",
       "      <td>7.600000e-05</td>\n",
       "      <td>8.98</td>\n",
       "      <td>31.4</td>\n",
       "      <td>0.002</td>\n",
       "      <td>-6.60</td>\n",
       "      <td>-6.96</td>\n",
       "      <td>0</td>\n",
       "    </tr>\n",
       "    <tr>\n",
       "      <th>2</th>\n",
       "      <td>2008 US</td>\n",
       "      <td>2017</td>\n",
       "      <td>2062</td>\n",
       "      <td>30</td>\n",
       "      <td>1.600000e-05</td>\n",
       "      <td>18.33</td>\n",
       "      <td>31.4</td>\n",
       "      <td>0.002</td>\n",
       "      <td>-6.48</td>\n",
       "      <td>-6.87</td>\n",
       "      <td>0</td>\n",
       "    </tr>\n",
       "    <tr>\n",
       "      <th>3</th>\n",
       "      <td>2010 VR139</td>\n",
       "      <td>2017</td>\n",
       "      <td>2076</td>\n",
       "      <td>24</td>\n",
       "      <td>2.000000e-07</td>\n",
       "      <td>4.99</td>\n",
       "      <td>26.7</td>\n",
       "      <td>0.016</td>\n",
       "      <td>-6.83</td>\n",
       "      <td>-6.95</td>\n",
       "      <td>0</td>\n",
       "    </tr>\n",
       "    <tr>\n",
       "      <th>4</th>\n",
       "      <td>2015 ME131</td>\n",
       "      <td>2017</td>\n",
       "      <td>2096</td>\n",
       "      <td>85</td>\n",
       "      <td>2.300000e-08</td>\n",
       "      <td>19.46</td>\n",
       "      <td>19.2</td>\n",
       "      <td>0.497</td>\n",
       "      <td>-3.85</td>\n",
       "      <td>-4.30</td>\n",
       "      <td>0</td>\n",
       "    </tr>\n",
       "  </tbody>\n",
       "</table>\n",
       "</div>"
      ],
      "text/plain": [
       "  Object Name  Period Start  Period End  Possible Impacts  \\\n",
       "0    2006 WP1          2017        2017                 1   \n",
       "1     2013 YB          2017        2046                23   \n",
       "2     2008 US          2017        2062                30   \n",
       "3  2010 VR139          2017        2076                24   \n",
       "4  2015 ME131          2017        2096                85   \n",
       "\n",
       "   Cumulative Impact Probability  Asteroid Velocity  Asteroid Magnitude  \\\n",
       "0                   5.200000e-09              17.77                28.3   \n",
       "1                   7.600000e-05               8.98                31.4   \n",
       "2                   1.600000e-05              18.33                31.4   \n",
       "3                   2.000000e-07               4.99                26.7   \n",
       "4                   2.300000e-08              19.46                19.2   \n",
       "\n",
       "   Asteroid Diameter (km)  Cumulative Palermo Scale  Maximum Palermo Scale  \\\n",
       "0                   0.007                     -8.31                  -8.31   \n",
       "1                   0.002                     -6.60                  -6.96   \n",
       "2                   0.002                     -6.48                  -6.87   \n",
       "3                   0.016                     -6.83                  -6.95   \n",
       "4                   0.497                     -3.85                  -4.30   \n",
       "\n",
       "  Maximum Torino Scale  \n",
       "0                    0  \n",
       "1                    0  \n",
       "2                    0  \n",
       "3                    0  \n",
       "4                    0  "
      ]
     },
     "execution_count": 1,
     "metadata": {},
     "output_type": "execute_result"
    }
   ],
   "source": [
    "import pandas as pd\n",
    "\n",
    "#Loads our dataset from a comma separated values file\n",
    "asteroids = pd.read_csv(\"impacts.csv\")\n",
    "\n",
    "#Prints out the first 5 asteroids\n",
    "asteroids.head()"
   ]
  },
  {
   "cell_type": "markdown",
   "metadata": {
    "collapsed": true
   },
   "source": [
    "Now that we've loaded in the data, we can see that each row is a different asteroid that has several columns that describe a certain feature about it. Now that we have the data loaded up, we can do some cleaning and manipulation of the data. \n",
    "\n",
    "## Data Processing\n",
    "\n",
    "For our purposes in this tutorial, the last three columns of Cumulative Palermo Scale, Maximum Palermo Scale, and Maximum Torino Scale will not be needed in the analysis since we're analysing basic asteroid features.\n",
    "So in order to make the dataset more compact and focused on what we want, we will remove these columns."
   ]
  },
  {
   "cell_type": "code",
   "execution_count": 2,
   "metadata": {},
   "outputs": [],
   "source": [
    "#Drops columns that we are not interested in for our analysis of the data\n",
    "asteroids = asteroids.drop('Cumulative Palermo Scale',axis=1)\n",
    "asteroids = asteroids.drop('Maximum Palermo Scale',axis=1)\n",
    "asteroids = asteroids.drop('Maximum Torino Scale',axis=1)"
   ]
  },
  {
   "cell_type": "markdown",
   "metadata": {},
   "source": [
    "The next part of our cleaning will be to modify several of the column names so that they are more clear in what they are describing. Specifically the two columns Asteroid Velocity and Cumulative Impact Probability. For Asteroid Velocity we want to rename it so that it matches Asteroid Diameter in the way that it shows how it is measured. In this case it means adding (km/s) to the column name because the velocity is measured in kilometers per second."
   ]
  },
  {
   "cell_type": "code",
   "execution_count": 3,
   "metadata": {
    "collapsed": true
   },
   "outputs": [],
   "source": [
    "#Renames the column to add a bit of clarity and consistency to the values\n",
    "asteroids = asteroids.rename(columns={'Asteroid Velocity': 'Asteroid Velocity (km/s)'})"
   ]
  },
  {
   "cell_type": "markdown",
   "metadata": {},
   "source": [
    "For the second column of interest, Cumulative Impact Probability, we are going to change it to measure percent rather than probability. That is to say we are going to change values such as 0.01 to represent 1%. The first step to doing this is changing the name to show what it is measuring. "
   ]
  },
  {
   "cell_type": "code",
   "execution_count": 4,
   "metadata": {
    "collapsed": true
   },
   "outputs": [],
   "source": [
    "#Renames the column to add a bit of clarity and consistency to the values\n",
    "asteroids = asteroids.rename(columns={'Cumulative Impact Probability': 'Cumulative Impact Probability (percentage)'})"
   ]
  },
  {
   "cell_type": "markdown",
   "metadata": {},
   "source": [
    "The second step will be slightly different than the cleaning we've been doing, as we will directly manipulate the data to show what we want. Now that we have changed the name to show we are talking about percentage, we have to change the data to match that. We'll do this by multiplying every value in this column by 100 in order to turn them into a percentage version of themselves."
   ]
  },
  {
   "cell_type": "code",
   "execution_count": 5,
   "metadata": {},
   "outputs": [
    {
     "data": {
      "text/html": [
       "<div>\n",
       "<table border=\"1\" class=\"dataframe\">\n",
       "  <thead>\n",
       "    <tr style=\"text-align: right;\">\n",
       "      <th></th>\n",
       "      <th>Object Name</th>\n",
       "      <th>Period Start</th>\n",
       "      <th>Period End</th>\n",
       "      <th>Possible Impacts</th>\n",
       "      <th>Cumulative Impact Probability (percentage)</th>\n",
       "      <th>Asteroid Velocity (km/s)</th>\n",
       "      <th>Asteroid Magnitude</th>\n",
       "      <th>Asteroid Diameter (km)</th>\n",
       "    </tr>\n",
       "  </thead>\n",
       "  <tbody>\n",
       "    <tr>\n",
       "      <th>0</th>\n",
       "      <td>2006 WP1</td>\n",
       "      <td>2017</td>\n",
       "      <td>2017</td>\n",
       "      <td>1</td>\n",
       "      <td>5.200000e-07</td>\n",
       "      <td>17.77</td>\n",
       "      <td>28.3</td>\n",
       "      <td>0.007</td>\n",
       "    </tr>\n",
       "    <tr>\n",
       "      <th>1</th>\n",
       "      <td>2013 YB</td>\n",
       "      <td>2017</td>\n",
       "      <td>2046</td>\n",
       "      <td>23</td>\n",
       "      <td>7.600000e-03</td>\n",
       "      <td>8.98</td>\n",
       "      <td>31.4</td>\n",
       "      <td>0.002</td>\n",
       "    </tr>\n",
       "    <tr>\n",
       "      <th>2</th>\n",
       "      <td>2008 US</td>\n",
       "      <td>2017</td>\n",
       "      <td>2062</td>\n",
       "      <td>30</td>\n",
       "      <td>1.600000e-03</td>\n",
       "      <td>18.33</td>\n",
       "      <td>31.4</td>\n",
       "      <td>0.002</td>\n",
       "    </tr>\n",
       "    <tr>\n",
       "      <th>3</th>\n",
       "      <td>2010 VR139</td>\n",
       "      <td>2017</td>\n",
       "      <td>2076</td>\n",
       "      <td>24</td>\n",
       "      <td>2.000000e-05</td>\n",
       "      <td>4.99</td>\n",
       "      <td>26.7</td>\n",
       "      <td>0.016</td>\n",
       "    </tr>\n",
       "    <tr>\n",
       "      <th>4</th>\n",
       "      <td>2015 ME131</td>\n",
       "      <td>2017</td>\n",
       "      <td>2096</td>\n",
       "      <td>85</td>\n",
       "      <td>2.300000e-06</td>\n",
       "      <td>19.46</td>\n",
       "      <td>19.2</td>\n",
       "      <td>0.497</td>\n",
       "    </tr>\n",
       "  </tbody>\n",
       "</table>\n",
       "</div>"
      ],
      "text/plain": [
       "  Object Name  Period Start  Period End  Possible Impacts  \\\n",
       "0    2006 WP1          2017        2017                 1   \n",
       "1     2013 YB          2017        2046                23   \n",
       "2     2008 US          2017        2062                30   \n",
       "3  2010 VR139          2017        2076                24   \n",
       "4  2015 ME131          2017        2096                85   \n",
       "\n",
       "   Cumulative Impact Probability (percentage)  Asteroid Velocity (km/s)  \\\n",
       "0                                5.200000e-07                     17.77   \n",
       "1                                7.600000e-03                      8.98   \n",
       "2                                1.600000e-03                     18.33   \n",
       "3                                2.000000e-05                      4.99   \n",
       "4                                2.300000e-06                     19.46   \n",
       "\n",
       "   Asteroid Magnitude  Asteroid Diameter (km)  \n",
       "0                28.3                   0.007  \n",
       "1                31.4                   0.002  \n",
       "2                31.4                   0.002  \n",
       "3                26.7                   0.016  \n",
       "4                19.2                   0.497  "
      ]
     },
     "execution_count": 5,
     "metadata": {},
     "output_type": "execute_result"
    }
   ],
   "source": [
    "#Adjusts probabilities to be in percentage\n",
    "asteroids['Cumulative Impact Probability (percentage)'] = asteroids['Cumulative Impact Probability (percentage)'] * 100\n",
    "asteroids.head()"
   ]
  },
  {
   "cell_type": "markdown",
   "metadata": {},
   "source": [
    "Now we're almost done processing this dataframe, and the last thing we want to do is add some additional columns that may give us further insight on the data that we will get through manipulation of already existing columns. The new columns will be Period Length, which will be obtained by subtracting period start from period end, and Average Possible Impacts Per Year, which is the result from dividing the total number of possible impacts by the period length. To avoid divide by zero errors, any asteroid that has a period end and period start with the same year will have a 1 rather than a 0 for the Period Length column."
   ]
  },
  {
   "cell_type": "code",
   "execution_count": 6,
   "metadata": {},
   "outputs": [
    {
     "data": {
      "text/html": [
       "<div>\n",
       "<table border=\"1\" class=\"dataframe\">\n",
       "  <thead>\n",
       "    <tr style=\"text-align: right;\">\n",
       "      <th></th>\n",
       "      <th>Object Name</th>\n",
       "      <th>Period Start</th>\n",
       "      <th>Period End</th>\n",
       "      <th>Period Length (years)</th>\n",
       "      <th>Possible Impacts</th>\n",
       "      <th>Average Possible Impacts Per Year</th>\n",
       "      <th>Cumulative Impact Probability (percentage)</th>\n",
       "      <th>Asteroid Velocity (km/s)</th>\n",
       "      <th>Asteroid Magnitude</th>\n",
       "      <th>Asteroid Diameter (km)</th>\n",
       "    </tr>\n",
       "  </thead>\n",
       "  <tbody>\n",
       "    <tr>\n",
       "      <th>0</th>\n",
       "      <td>2006 WP1</td>\n",
       "      <td>2017</td>\n",
       "      <td>2017</td>\n",
       "      <td>1</td>\n",
       "      <td>1</td>\n",
       "      <td>1.000000</td>\n",
       "      <td>5.200000e-07</td>\n",
       "      <td>17.77</td>\n",
       "      <td>28.3</td>\n",
       "      <td>0.007</td>\n",
       "    </tr>\n",
       "    <tr>\n",
       "      <th>1</th>\n",
       "      <td>2013 YB</td>\n",
       "      <td>2017</td>\n",
       "      <td>2046</td>\n",
       "      <td>29</td>\n",
       "      <td>23</td>\n",
       "      <td>0.793103</td>\n",
       "      <td>7.600000e-03</td>\n",
       "      <td>8.98</td>\n",
       "      <td>31.4</td>\n",
       "      <td>0.002</td>\n",
       "    </tr>\n",
       "    <tr>\n",
       "      <th>2</th>\n",
       "      <td>2008 US</td>\n",
       "      <td>2017</td>\n",
       "      <td>2062</td>\n",
       "      <td>45</td>\n",
       "      <td>30</td>\n",
       "      <td>0.666667</td>\n",
       "      <td>1.600000e-03</td>\n",
       "      <td>18.33</td>\n",
       "      <td>31.4</td>\n",
       "      <td>0.002</td>\n",
       "    </tr>\n",
       "    <tr>\n",
       "      <th>3</th>\n",
       "      <td>2010 VR139</td>\n",
       "      <td>2017</td>\n",
       "      <td>2076</td>\n",
       "      <td>59</td>\n",
       "      <td>24</td>\n",
       "      <td>0.406780</td>\n",
       "      <td>2.000000e-05</td>\n",
       "      <td>4.99</td>\n",
       "      <td>26.7</td>\n",
       "      <td>0.016</td>\n",
       "    </tr>\n",
       "    <tr>\n",
       "      <th>4</th>\n",
       "      <td>2015 ME131</td>\n",
       "      <td>2017</td>\n",
       "      <td>2096</td>\n",
       "      <td>79</td>\n",
       "      <td>85</td>\n",
       "      <td>1.075949</td>\n",
       "      <td>2.300000e-06</td>\n",
       "      <td>19.46</td>\n",
       "      <td>19.2</td>\n",
       "      <td>0.497</td>\n",
       "    </tr>\n",
       "  </tbody>\n",
       "</table>\n",
       "</div>"
      ],
      "text/plain": [
       "  Object Name  Period Start  Period End  Period Length (years)  \\\n",
       "0    2006 WP1          2017        2017                      1   \n",
       "1     2013 YB          2017        2046                     29   \n",
       "2     2008 US          2017        2062                     45   \n",
       "3  2010 VR139          2017        2076                     59   \n",
       "4  2015 ME131          2017        2096                     79   \n",
       "\n",
       "   Possible Impacts  Average Possible Impacts Per Year  \\\n",
       "0                 1                           1.000000   \n",
       "1                23                           0.793103   \n",
       "2                30                           0.666667   \n",
       "3                24                           0.406780   \n",
       "4                85                           1.075949   \n",
       "\n",
       "   Cumulative Impact Probability (percentage)  Asteroid Velocity (km/s)  \\\n",
       "0                                5.200000e-07                     17.77   \n",
       "1                                7.600000e-03                      8.98   \n",
       "2                                1.600000e-03                     18.33   \n",
       "3                                2.000000e-05                      4.99   \n",
       "4                                2.300000e-06                     19.46   \n",
       "\n",
       "   Asteroid Magnitude  Asteroid Diameter (km)  \n",
       "0                28.3                   0.007  \n",
       "1                31.4                   0.002  \n",
       "2                31.4                   0.002  \n",
       "3                26.7                   0.016  \n",
       "4                19.2                   0.497  "
      ]
     },
     "execution_count": 6,
     "metadata": {},
     "output_type": "execute_result"
    }
   ],
   "source": [
    "#Adds new columns for Period Length (years) and Average Possible Impacts Per Year\n",
    "asteroids.insert(3, 'Period Length (years)', 0, allow_duplicates=False)\n",
    "asteroids.insert(5, 'Average Possible Impacts Per Year', 0.0, allow_duplicates=False)\n",
    "\n",
    "#Assigns values to Period Length (years) column by subtracting the period start year from the period end year\n",
    "asteroids['Period Length (years)'] = asteroids['Period End'] - asteroids['Period Start']\n",
    "\n",
    "#Any asteroids where the period length was 0, will have their period length changed to 1 for math purposes \n",
    "mask = asteroids['Period Length (years)'] == 0 \n",
    "column_name = 'Period Length (years)'\n",
    "asteroids.loc[mask, column_name] = 1\n",
    "\n",
    "#Assigns values to Possible Impacts Per Year column by dividing the Period Length by Possible Impacts\n",
    "asteroids['Average Possible Impacts Per Year'] = asteroids['Possible Impacts']/asteroids['Period Length (years)']\n",
    "\n",
    "#Prints out the first 5 asteroids to see our changes\n",
    "asteroids.head()"
   ]
  },
  {
   "cell_type": "markdown",
   "metadata": {
    "collapsed": true
   },
   "source": [
    "## Data Analysis\n",
    "\n",
    "With our dataframe being fully processed, we are now ready to begin the data analysis section. We will attempt to uncover some not so obvious trends and maybe find attributes of an asteroid that increase its impact probability. Let's begin by extracting a few numbers from the data, starting with the number you are probably most interested in, the mean cumulative impact probability."
   ]
  },
  {
   "cell_type": "code",
   "execution_count": 7,
   "metadata": {},
   "outputs": [
    {
     "name": "stdout",
     "output_type": "stream",
     "text": [
      "The mean cumulative impact probability among all the asteroids is: 0.0153947565417%\n",
      "The standard deviation of cumulative impact probability among all the asteroids is: 0.251960708685%\n"
     ]
    }
   ],
   "source": [
    "#Prints data for cumulative impact probability\n",
    "print(\"The mean cumulative impact probability among all the asteroids is: \" +\\\n",
    "      str(asteroids['Cumulative Impact Probability (percentage)'].mean()) + \"%\")\n",
    "print(\"The standard deviation of cumulative impact probability among all the asteroids is: \" +\\\n",
    "      str(asteroids['Cumulative Impact Probability (percentage)'].std()) + \"%\")"
   ]
  },
  {
   "cell_type": "markdown",
   "metadata": {},
   "source": [
    "So on average the chance an asteroid will impact with Earth is just over 1/100th of a percent. As much as we'd like the average probability to be 0%, these are still favorable odds for us. Let's sort the data by impact probability to see what some of the asteroids with top chances to hit us are like."
   ]
  },
  {
   "cell_type": "code",
   "execution_count": 8,
   "metadata": {},
   "outputs": [
    {
     "data": {
      "text/html": [
       "<div>\n",
       "<table border=\"1\" class=\"dataframe\">\n",
       "  <thead>\n",
       "    <tr style=\"text-align: right;\">\n",
       "      <th></th>\n",
       "      <th>Object Name</th>\n",
       "      <th>Period Start</th>\n",
       "      <th>Period End</th>\n",
       "      <th>Period Length (years)</th>\n",
       "      <th>Possible Impacts</th>\n",
       "      <th>Average Possible Impacts Per Year</th>\n",
       "      <th>Cumulative Impact Probability (percentage)</th>\n",
       "      <th>Asteroid Velocity (km/s)</th>\n",
       "      <th>Asteroid Magnitude</th>\n",
       "      <th>Asteroid Diameter (km)</th>\n",
       "    </tr>\n",
       "  </thead>\n",
       "  <tbody>\n",
       "    <tr>\n",
       "      <th>568</th>\n",
       "      <td>2010 RF12</td>\n",
       "      <td>2095</td>\n",
       "      <td>2115</td>\n",
       "      <td>20</td>\n",
       "      <td>52</td>\n",
       "      <td>2.600000</td>\n",
       "      <td>6.50</td>\n",
       "      <td>5.10</td>\n",
       "      <td>28.4</td>\n",
       "      <td>0.007</td>\n",
       "    </tr>\n",
       "    <tr>\n",
       "      <th>424</th>\n",
       "      <td>2006 JY26</td>\n",
       "      <td>2073</td>\n",
       "      <td>2110</td>\n",
       "      <td>37</td>\n",
       "      <td>48</td>\n",
       "      <td>1.297297</td>\n",
       "      <td>0.97</td>\n",
       "      <td>2.98</td>\n",
       "      <td>28.4</td>\n",
       "      <td>0.007</td>\n",
       "    </tr>\n",
       "    <tr>\n",
       "      <th>386</th>\n",
       "      <td>2000 SG344</td>\n",
       "      <td>2069</td>\n",
       "      <td>2113</td>\n",
       "      <td>44</td>\n",
       "      <td>104</td>\n",
       "      <td>2.363636</td>\n",
       "      <td>0.22</td>\n",
       "      <td>1.36</td>\n",
       "      <td>24.8</td>\n",
       "      <td>0.037</td>\n",
       "    </tr>\n",
       "    <tr>\n",
       "      <th>285</th>\n",
       "      <td>2012 HG2</td>\n",
       "      <td>2053</td>\n",
       "      <td>2116</td>\n",
       "      <td>63</td>\n",
       "      <td>318</td>\n",
       "      <td>5.047619</td>\n",
       "      <td>0.20</td>\n",
       "      <td>3.32</td>\n",
       "      <td>27.0</td>\n",
       "      <td>0.014</td>\n",
       "    </tr>\n",
       "    <tr>\n",
       "      <th>274</th>\n",
       "      <td>2016 RD34</td>\n",
       "      <td>2051</td>\n",
       "      <td>2093</td>\n",
       "      <td>42</td>\n",
       "      <td>25</td>\n",
       "      <td>0.595238</td>\n",
       "      <td>0.19</td>\n",
       "      <td>1.14</td>\n",
       "      <td>27.5</td>\n",
       "      <td>0.011</td>\n",
       "    </tr>\n",
       "    <tr>\n",
       "      <th>218</th>\n",
       "      <td>2015 YJ</td>\n",
       "      <td>2042</td>\n",
       "      <td>2115</td>\n",
       "      <td>73</td>\n",
       "      <td>52</td>\n",
       "      <td>0.712329</td>\n",
       "      <td>0.18</td>\n",
       "      <td>16.35</td>\n",
       "      <td>28.3</td>\n",
       "      <td>0.007</td>\n",
       "    </tr>\n",
       "    <tr>\n",
       "      <th>681</th>\n",
       "      <td>410777 (2009 FD)</td>\n",
       "      <td>2185</td>\n",
       "      <td>2198</td>\n",
       "      <td>13</td>\n",
       "      <td>7</td>\n",
       "      <td>0.538462</td>\n",
       "      <td>0.16</td>\n",
       "      <td>15.87</td>\n",
       "      <td>22.1</td>\n",
       "      <td>0.160</td>\n",
       "    </tr>\n",
       "    <tr>\n",
       "      <th>409</th>\n",
       "      <td>2016 VB1</td>\n",
       "      <td>2071</td>\n",
       "      <td>2115</td>\n",
       "      <td>44</td>\n",
       "      <td>73</td>\n",
       "      <td>1.659091</td>\n",
       "      <td>0.12</td>\n",
       "      <td>5.45</td>\n",
       "      <td>28.6</td>\n",
       "      <td>0.006</td>\n",
       "    </tr>\n",
       "    <tr>\n",
       "      <th>388</th>\n",
       "      <td>2014 JR24</td>\n",
       "      <td>2069</td>\n",
       "      <td>2115</td>\n",
       "      <td>46</td>\n",
       "      <td>38</td>\n",
       "      <td>0.826087</td>\n",
       "      <td>0.12</td>\n",
       "      <td>3.72</td>\n",
       "      <td>29.3</td>\n",
       "      <td>0.005</td>\n",
       "    </tr>\n",
       "    <tr>\n",
       "      <th>228</th>\n",
       "      <td>2011 AM37</td>\n",
       "      <td>2044</td>\n",
       "      <td>2114</td>\n",
       "      <td>70</td>\n",
       "      <td>120</td>\n",
       "      <td>1.714286</td>\n",
       "      <td>0.10</td>\n",
       "      <td>3.65</td>\n",
       "      <td>29.7</td>\n",
       "      <td>0.004</td>\n",
       "    </tr>\n",
       "  </tbody>\n",
       "</table>\n",
       "</div>"
      ],
      "text/plain": [
       "          Object Name  Period Start  Period End  Period Length (years)  \\\n",
       "568         2010 RF12          2095        2115                     20   \n",
       "424         2006 JY26          2073        2110                     37   \n",
       "386        2000 SG344          2069        2113                     44   \n",
       "285          2012 HG2          2053        2116                     63   \n",
       "274         2016 RD34          2051        2093                     42   \n",
       "218           2015 YJ          2042        2115                     73   \n",
       "681  410777 (2009 FD)          2185        2198                     13   \n",
       "409          2016 VB1          2071        2115                     44   \n",
       "388         2014 JR24          2069        2115                     46   \n",
       "228         2011 AM37          2044        2114                     70   \n",
       "\n",
       "     Possible Impacts  Average Possible Impacts Per Year  \\\n",
       "568                52                           2.600000   \n",
       "424                48                           1.297297   \n",
       "386               104                           2.363636   \n",
       "285               318                           5.047619   \n",
       "274                25                           0.595238   \n",
       "218                52                           0.712329   \n",
       "681                 7                           0.538462   \n",
       "409                73                           1.659091   \n",
       "388                38                           0.826087   \n",
       "228               120                           1.714286   \n",
       "\n",
       "     Cumulative Impact Probability (percentage)  Asteroid Velocity (km/s)  \\\n",
       "568                                        6.50                      5.10   \n",
       "424                                        0.97                      2.98   \n",
       "386                                        0.22                      1.36   \n",
       "285                                        0.20                      3.32   \n",
       "274                                        0.19                      1.14   \n",
       "218                                        0.18                     16.35   \n",
       "681                                        0.16                     15.87   \n",
       "409                                        0.12                      5.45   \n",
       "388                                        0.12                      3.72   \n",
       "228                                        0.10                      3.65   \n",
       "\n",
       "     Asteroid Magnitude  Asteroid Diameter (km)  \n",
       "568                28.4                   0.007  \n",
       "424                28.4                   0.007  \n",
       "386                24.8                   0.037  \n",
       "285                27.0                   0.014  \n",
       "274                27.5                   0.011  \n",
       "218                28.3                   0.007  \n",
       "681                22.1                   0.160  \n",
       "409                28.6                   0.006  \n",
       "388                29.3                   0.005  \n",
       "228                29.7                   0.004  "
      ]
     },
     "execution_count": 8,
     "metadata": {},
     "output_type": "execute_result"
    }
   ],
   "source": [
    "#Sorts the asteroids dataset by cumulative impact probability descending \n",
    "asteroids_sorted = asteroids.sort_values(by=['Cumulative Impact Probability (percentage)'], ascending=False)\n",
    "asteroids_sorted.head(10)"
   ]
  },
  {
   "cell_type": "markdown",
   "metadata": {},
   "source": [
    "Wow! That's some variation for just the top 10 highest impact probabilities. Since the probabilities decrease at a rapid rate from the top, going from 6.5% all the way down to 0.1% within the span of 10 asteroids, we may want to pay special attention to how the properties of how the top 10 impact probability asteroids compare to the properties of all the rest of the asteroids. This might allow us to discern which properties are more important when determining if an asteroid will have a higher impact probability. \n",
    "\n",
    "\n",
    "We'll first look at data for the inherent properties of the asteroids, velocity, magnitude, and diameter."
   ]
  },
  {
   "cell_type": "code",
   "execution_count": 9,
   "metadata": {},
   "outputs": [
    {
     "name": "stdout",
     "output_type": "stream",
     "text": [
      "Mean Velocity of All Asteroids: 11.4625768668\n",
      "Standard Deviation for Velocity of All Asteroids: 6.06777221274\n",
      "Mean Velocity of Top 10 Highest Impact Probability Asteroids: 5.894\n",
      "\n",
      "Mean Magnitude of All Asteroids: 26.158272328\n",
      "Standard Deviation for Velocity of All Asteroids: 2.3882964767\n",
      "Mean Magnitude of Top 10 Highest Impact Probability Asteroids: 27.41\n",
      "\n",
      "Mean Diameter of All Asteroids: 0.0493777452416\n",
      "Standard Deviation for Diameter of All Asteroids: 0.156402783563\n",
      "Mean Diameter of Top 10 Highest Impact Probability Asteroids: 0.0258\n",
      "\n"
     ]
    }
   ],
   "source": [
    "#Prints velocity data\n",
    "print(\"Mean Velocity of All Asteroids: \" + str(asteroids['Asteroid Velocity (km/s)'].mean()))\n",
    "print(\"Standard Deviation for Velocity of All Asteroids: \" + str(asteroids['Asteroid Velocity (km/s)'].std()))\n",
    "print(\"Mean Velocity of Top 10 Highest Impact Probability Asteroids: \" +\\\n",
    "      str(asteroids_sorted.head(10)['Asteroid Velocity (km/s)'].mean()) + \"\\n\")\n",
    "\n",
    "#Prints magnitude data\n",
    "print(\"Mean Magnitude of All Asteroids: \" + str(asteroids['Asteroid Magnitude'].mean()))\n",
    "print(\"Standard Deviation for Velocity of All Asteroids: \" + str(asteroids['Asteroid Magnitude'].std()))\n",
    "print(\"Mean Magnitude of Top 10 Highest Impact Probability Asteroids: \" +\\\n",
    "      str(asteroids_sorted.head(10)['Asteroid Magnitude'].mean()) + \"\\n\")\n",
    "\n",
    "#Prints diameter data\n",
    "print(\"Mean Diameter of All Asteroids: \" + str(asteroids['Asteroid Diameter (km)'].mean()))\n",
    "print(\"Standard Deviation for Diameter of All Asteroids: \" + str(asteroids['Asteroid Diameter (km)'].std()))\n",
    "print(\"Mean Diameter of Top 10 Highest Impact Probability Asteroids: \" +\\\n",
    "      str(asteroids_sorted.head(10)['Asteroid Diameter (km)'].mean()) + \"\\n\")"
   ]
  },
  {
   "cell_type": "markdown",
   "metadata": {
    "collapsed": true
   },
   "source": [
    "So we see here for velocity, magnitude, and diameter the mean for all asteroids, the standard deviation for all asteroids, and the mean for the top 10 highest impact probability asteroids. The standard deviation for each value shows the level of variation in that value among all asteroids, and for each of the three categories the mean for the top 10 is within 1 standard deviation of the mean for all asteroids. This may indicate a lack of predictive power for these attributes, but we don't know for sure yet. We can see that the velocity and magnitude are much closer to breaking out of the 1 standard deviation range than diameter so we'll keep an eye on them for now. \n",
    "\n",
    "Next let's try analyzing the numbers behind the values we created and added to the data, period length and average possible impacts per year."
   ]
  },
  {
   "cell_type": "code",
   "execution_count": 10,
   "metadata": {},
   "outputs": [
    {
     "name": "stdout",
     "output_type": "stream",
     "text": [
      "Mean Period Length of All Asteroids: 37.3250366032\n",
      "Standard Deviation for Period Length of All Asteroids: 32.6863671142\n",
      "Mean Period Length of Top 10 Highest Impact Probability Asteroids: 45.2\n",
      "\n",
      "Mean Average Possible Impacts Per Year of All Asteroids: 0.94124458777\n",
      "Standard Deviation for Average Possible Impacts Per Year of All Asteroids: 1.31061088093\n",
      "Mean Average Possible Impacts Per Year of Top 10 Highest Impact Probability Asteroids: 1.73540446893\n",
      "\n"
     ]
    }
   ],
   "source": [
    "#Prints out data for period length\n",
    "print(\"Mean Period Length of All Asteroids: \" + str(asteroids['Period Length (years)'].mean()))\n",
    "print(\"Standard Deviation for Period Length of All Asteroids: \" + str(asteroids['Period Length (years)'].std()))\n",
    "print(\"Mean Period Length of Top 10 Highest Impact Probability Asteroids: \" +\\\n",
    "      str(asteroids_sorted.head(10)['Period Length (years)'].mean()) + \"\\n\")\n",
    "\n",
    "#Prints out data for average possible impacts per year\n",
    "print(\"Mean Average Possible Impacts Per Year of All Asteroids: \" +\\\n",
    "      str(asteroids['Average Possible Impacts Per Year'].mean()))\n",
    "print(\"Standard Deviation for Average Possible Impacts Per Year of All Asteroids: \" +\\\n",
    "      str(asteroids['Average Possible Impacts Per Year'].std()))\n",
    "print(\"Mean Average Possible Impacts Per Year of Top 10 Highest Impact Probability Asteroids: \" +\\\n",
    "      str(asteroids_sorted.head(10)['Average Possible Impacts Per Year'].mean()) + \"\\n\")"
   ]
  },
  {
   "cell_type": "markdown",
   "metadata": {
    "collapsed": true
   },
   "source": [
    "Again, the means of the top 10 impact probability asteroids don't go further than 1 standard deviation from the mean, with neither of them really coming close. While we can't discount them yet as predictors for impact probability, we will go further assuming that there is a good chance they are not. The reason none of what we've learned is conclusive yet is because there are still different types of analysis left that can shed new light or further confirm our suspicions, next of which is data visualization. \n",
    "\n",
    "Visualizing data as graphs is an effective way to help give some context to the data rather than just overloading the brain with numbers. We will start our visualization in the same way as our numbers analysis, with the innate qualities of the asteroids, but before we begin it's important to establish one thing first. As shown in the earlier sorted dataset, the higher impact probabilities are close to outliers. To show this, here is the disparity between the amount of asteroids with a greater than 0.1% chance to impact and the amount of asteroids with less than or equal to 0.1% chance."
   ]
  },
  {
   "cell_type": "code",
   "execution_count": 11,
   "metadata": {},
   "outputs": [
    {
     "name": "stdout",
     "output_type": "stream",
     "text": [
      "The number of asteroids with a cumulative impact probability less than or equal to 0.1%: 674\n",
      "The number of asteroids with a cumulative impact probability greater than 0.1%: 9\n"
     ]
    }
   ],
   "source": [
    "#Prints out size difference between the two sets of asteroids\n",
    "print(\"The number of asteroids with a cumulative impact probability less than or equal to 0.1%: \" +\\\n",
    "      str(len(asteroids[asteroids['Cumulative Impact Probability (percentage)'] <= 0.1])))\n",
    "print(\"The number of asteroids with a cumulative impact probability greater than 0.1%: \" +\\\n",
    "      str(len(asteroids[asteroids['Cumulative Impact Probability (percentage)'] > 0.1])))"
   ]
  },
  {
   "cell_type": "markdown",
   "metadata": {},
   "source": [
    "As you can see, a vast majority of asteroids fall below this cutoff. In order for the graphs to have any viewability, we will change the axises of the graph to only go up to 0.1% for cumulative impact probability because if we did not the size of the impact probability axis would be skewed upwards and a majority of the plotted dots would be compacted and undiscernable at the bottom of the graph. With this point explained, we will begin the visualization of the first three categories. We will do this by importing the matplotlib library which is used for generating visualizations for plots and the numpy library which we will use for its polyfit function. For more information on numpy.polyfit look here https://docs.scipy.org/doc/numpy/reference/generated/numpy.polyfit.html and for more information about matlotlib's pyplot library look here https://matplotlib.org/api/pyplot_api.html    "
   ]
  },
  {
   "cell_type": "code",
   "execution_count": 12,
   "metadata": {},
   "outputs": [
    {
     "data": {
      "image/png": "[encoded data removed]",
      "text/plain": [
       "<matplotlib.figure.Figure at 0x7f0289fb6e80>"
      ]
     },
     "metadata": {},
     "output_type": "display_data"
    }
   ],
   "source": [
    "import matplotlib.pyplot as plt\n",
    "import numpy as np\n",
    "\n",
    "#Velocity plotted against cumulative impact probability \n",
    "plt.axis([0, 40, 0, 0.1])\n",
    "plt.scatter(asteroids['Asteroid Velocity (km/s)'], asteroids['Cumulative Impact Probability (percentage)'])\n",
    "\n",
    "#Fits the data to produce the line on the graph\n",
    "m,b = np.polyfit(asteroids['Asteroid Velocity (km/s)'], asteroids['Cumulative Impact Probability (percentage)'], 1)\n",
    "plt.plot(asteroids['Asteroid Velocity (km/s)'],m*asteroids['Asteroid Velocity (km/s)'] + b,'-', color='black')\n",
    "\n",
    "#Configures title and labels\n",
    "plt.title('Velocity vs Cumulative Impact Probability')\n",
    "plt.ylabel('Cumulative Impact Probability in Percent')\n",
    "plt.xlabel('Velocity')\n",
    "plt.show()"
   ]
  },
  {
   "cell_type": "code",
   "execution_count": 13,
   "metadata": {},
   "outputs": [
    {
     "data": {
      "image/png": "[encoded data removed]",
      "text/plain": [
       "<matplotlib.figure.Figure at 0x7f0289fb6748>"
      ]
     },
     "metadata": {},
     "output_type": "display_data"
    }
   ],
   "source": [
    "#Magnitude plotted against cumulative impact probability \n",
    "plt.axis([15, 32, 0, 0.1])\n",
    "plt.scatter(asteroids['Asteroid Magnitude'], asteroids['Cumulative Impact Probability (percentage)'])\n",
    "\n",
    "#Fits the data to produce the line on the graph\n",
    "m,b = np.polyfit(asteroids['Asteroid Magnitude'], asteroids['Cumulative Impact Probability (percentage)'], 1)\n",
    "plt.plot(asteroids['Asteroid Magnitude'],m*asteroids['Asteroid Magnitude'] + b,'-', color='black')\n",
    "\n",
    "#Configures title and labels\n",
    "plt.title('Magnitude vs Cumulative Impact Probability')\n",
    "plt.ylabel('Cumulative Impact Probability in Percent')\n",
    "plt.xlabel('Magnitude in Absolute Magnitude')\n",
    "plt.show()"
   ]
  },
  {
   "cell_type": "code",
   "execution_count": 14,
   "metadata": {},
   "outputs": [
    {
     "data": {
      "image/png": "[encoded data removed]",
      "text/plain": [
       "<matplotlib.figure.Figure at 0x7f0289fb6518>"
      ]
     },
     "metadata": {},
     "output_type": "display_data"
    }
   ],
   "source": [
    "#Diameter plotted against cumulative impact probability \n",
    "plt.axis([0, 3, 0, 0.1])\n",
    "plt.scatter(asteroids['Asteroid Diameter (km)'], asteroids['Cumulative Impact Probability (percentage)'])\n",
    "\n",
    "#Fits the data to produce the line on the graph\n",
    "m,b = np.polyfit(asteroids['Asteroid Diameter (km)'], asteroids['Cumulative Impact Probability (percentage)'], 1)\n",
    "plt.plot(asteroids['Asteroid Diameter (km)'],m*asteroids['Asteroid Diameter (km)'] + b,'-', color='black')\n",
    "\n",
    "#Configures title and labels\n",
    "plt.title('Diameter vs Cumulative Impact Probability')\n",
    "plt.ylabel('Cumulative Impact Probability in Percent')\n",
    "plt.xlabel('Diameter in Kilometers')\n",
    "plt.show()"
   ]
  },
  {
   "cell_type": "markdown",
   "metadata": {},
   "source": [
    "These graphs go along with what we saw in the numbers section, in that both velocity and magnitude have an ok correlation when plotted against impact probability compared to the much weaker correlation that diameter has. According to the graphs, impact probability is negatively correlated with velocity and positively correlated with magnitude, meaning that as velocity goes down and magnitude goes up, impact probability increases. Though magnitude itself is a measure of absolute brightness, which you wouldn't think of as a factor affecting impact probability, an asterioid's magnitude is greatly influenced by the material it is made of which could play a part in things like mass which may be the hidden property increasing impact probability. We will investigate the effects of velocity and magnitude after we finish graphing the columns of the dataset we created."
   ]
  },
  {
   "cell_type": "code",
   "execution_count": 15,
   "metadata": {},
   "outputs": [
    {
     "data": {
      "image/png": "[encoded data removed]",
      "text/plain": [
       "<matplotlib.figure.Figure at 0x7f02859a7f28>"
      ]
     },
     "metadata": {},
     "output_type": "display_data"
    }
   ],
   "source": [
    "#Period Length in years plotted against cumulative impact probability \n",
    "plt.axis([0, 100, 0, 0.1])\n",
    "plt.scatter(asteroids['Period Length (years)'], asteroids['Cumulative Impact Probability (percentage)'])\n",
    "\n",
    "#Fits the data to produce the line on the graph\n",
    "m,b = np.polyfit(asteroids['Period Length (years)'], asteroids['Cumulative Impact Probability (percentage)'], 1)\n",
    "plt.plot(asteroids['Period Length (years)'],m*asteroids['Period Length (years)'] + b,'-', color='black')\n",
    "\n",
    "#Configures title and labels\n",
    "plt.title('Period Length vs Cumulative Impact Probability')\n",
    "plt.ylabel('Cumulative Impact Probability in Percent')\n",
    "plt.xlabel('Period Length in Years')\n",
    "plt.show()"
   ]
  },
  {
   "cell_type": "code",
   "execution_count": 16,
   "metadata": {},
   "outputs": [
    {
     "data": {
      "image/png": "[encoded data removed]",
      "text/plain": [
       "<matplotlib.figure.Figure at 0x7f02859897f0>"
      ]
     },
     "metadata": {},
     "output_type": "display_data"
    }
   ],
   "source": [
    "#Average Possible Impacts Per Year plotted against cumulative impact probability \n",
    "plt.axis([0, 12, 0, 0.1])\n",
    "plt.scatter(asteroids['Average Possible Impacts Per Year'], asteroids['Cumulative Impact Probability (percentage)'])\n",
    "\n",
    "#Fits the data to produce the line on the graph\n",
    "m,b = np.polyfit(asteroids['Average Possible Impacts Per Year'], asteroids['Cumulative Impact Probability (percentage)'], 1)\n",
    "plt.plot(asteroids['Average Possible Impacts Per Year'],m*asteroids['Average Possible Impacts Per Year'] + b,'-', color='black')\n",
    "\n",
    "#Configures title and labels\n",
    "plt.title('Average Possible Impacts Per Year vs Cumulative Impact Probability')\n",
    "plt.ylabel('Cumulative Impact Probability in Percent')\n",
    "plt.xlabel('Average Possible Impacts Per Year')\n",
    "plt.show()"
   ]
  },
  {
   "cell_type": "markdown",
   "metadata": {
    "collapsed": true
   },
   "source": [
    "With these two graphs we see the benefit of our data processing section, because had we not calculated period length and used it to find average possible impacts per year we would not have found this stronger correlation between possible impacts per year and impact probability. Alone and without the added information of total possible impacts, the period length has a near non existant correlation with impact probability, which goes to show that data analysis is all about looking at things from different perspectives to gain new understandings. \n",
    "\n",
    "## Statistical Analysis\n",
    "\n",
    "Through our visualizations we learned that there is a potential connection between velocity and magnitude that may help predict impact probability. What this is called when two or more terms interact is an \"Interaction Term\". To test our interaction term of velocity and magnitude, we will use statsmodels to perform an \"Ordinary Least Squares\" statistical regression on our data to see the term's predictive power when it comes to impact probability. To learn more about statsmodels direct your attention here http://www.statsmodels.org/stable/index.html."
   ]
  },
  {
   "cell_type": "code",
   "execution_count": 17,
   "metadata": {},
   "outputs": [
    {
     "name": "stdout",
     "output_type": "stream",
     "text": [
      "                            OLS Regression Results                            \n",
      "==============================================================================\n",
      "Dep. Variable:            Probability   R-squared:                       0.007\n",
      "Model:                            OLS   Adj. R-squared:                  0.003\n",
      "Method:                 Least Squares   F-statistic:                     1.629\n",
      "Date:                Fri, 15 Dec 2017   Prob (F-statistic):              0.181\n",
      "Time:                        18:36:44   Log-Likelihood:                -24.682\n",
      "No. Observations:                 683   AIC:                             57.36\n",
      "Df Residuals:                     679   BIC:                             75.47\n",
      "Df Model:                           3                                         \n",
      "Covariance Type:            nonrobust                                         \n",
      "======================================================================================\n",
      "                         coef    std err          t      P>|t|      [0.025      0.975]\n",
      "--------------------------------------------------------------------------------------\n",
      "Intercept             -0.3243      0.236     -1.375      0.170      -0.787       0.139\n",
      "Velocity               0.0188      0.015      1.224      0.221      -0.011       0.049\n",
      "Magnitude              0.0139      0.009      1.567      0.118      -0.004       0.031\n",
      "Velocity:Magnitude    -0.0008      0.001     -1.366      0.172      -0.002       0.000\n",
      "==============================================================================\n",
      "Omnibus:                     1730.913   Durbin-Watson:                   2.007\n",
      "Prob(Omnibus):                  0.000   Jarque-Bera (JB):         11629180.284\n",
      "Skew:                          24.963   Prob(JB):                         0.00\n",
      "Kurtosis:                     640.296   Cond. No.                     8.14e+03\n",
      "==============================================================================\n",
      "\n",
      "Warnings:\n",
      "[1] Standard Errors assume that the covariance matrix of the errors is correctly specified.\n",
      "[2] The condition number is large, 8.14e+03. This might indicate that there are\n",
      "strong multicollinearity or other numerical problems.\n"
     ]
    }
   ],
   "source": [
    "import statsmodels.formula.api as smf\n",
    "\n",
    "#OLS did not allow for the formatting we had on our column names, so they were changed to conform to what \n",
    "#would work\n",
    "asteroids = asteroids.rename(columns={'Asteroid Magnitude': 'Magnitude'})\n",
    "asteroids = asteroids.rename(columns={'Asteroid Velocity (km/s)': 'Velocity'})\n",
    "asteroids = asteroids.rename(columns={'Cumulative Impact Probability (percentage)': 'Probability'})\n",
    "\n",
    "#Uses OLS to create an interaction term between Magnitude and Velocity\n",
    "regression = smf.ols(formula='Probability ~ Velocity * Magnitude', data=asteroids).fit()\n",
    "print(regression.summary())"
   ]
  },
  {
   "cell_type": "markdown",
   "metadata": {},
   "source": [
    "In this type of regression analysis, we start with a null hypothesis that we want to reject, which in this case is that velocity and magnitude do not have any predicive power of impact probability. A good way to try to reject the null hypothesis is to look at the R-squared value. The closer to 1 that the R-squared value is, the more confident we are in rejecting the null hypothesis. Unfortunately in our case the R-squared value is very close to 0, meaning we don't have enough evidence to reject the null hypothesis. If you want to know more about R-squared testing check this link http://blog.minitab.com/blog/adventures-in-statistics-2/regression-analysis-how-do-i-interpret-r-squared-and-assess-the-goodness-of-fit. Don't let it get to you though, this happens all the time in statistics and the best way to handle it is to go out on your own and find new data that you can test with a fresh idea.\n",
    "\n",
    "## Conclusion\n",
    "\n",
    "Even though we were unable to find good predictors for asteroid impact proability from the information in this dataset, we did learn that a vast majority of asteroids are a fraction of a single percent likely to collide with Earth. \n",
    "We also learned about some interesting possible trends such as higher asteroid impact probabilities indicating a higher amount of potential impact chances.\n",
    "\n",
    "It may well be the case that asteroid impact probability with Earth is mostly dominated by random chance, but through continued use of data science principles we may be able to find some underlying factors that would improve our understanding of this interesting subject. Hopefully this tutorial has taught you enough that you can go on to conduct your own investigations in the future!"
   ]
  },
  {
   "cell_type": "markdown",
   "metadata": {},
   "source": [
    "## References\n",
    "\n",
    "Asteroids Dataset: https://www.kaggle.com/nasa/asteroid-impacts/data\n",
    "\n",
    "Pandas: http://pandas.pydata.org\n",
    "\n",
    "Polyfit: https://docs.scipy.org/doc/numpy/reference/generated/numpy.polyfit.html\n",
    "\n",
    "Matplotlib Pyplot: https://matplotlib.org/api/pyplot_api.html\n",
    "\n",
    "R-squared information: http://blog.minitab.com/blog/adventures-in-statistics-2/regression-analysis-how-do-i-interpret-r-squared-and-assess-the-goodness-of-fit\n",
    "\n",
    "Statsmodels: http://www.statsmodels.org/stable/index.html\n",
    "\n",
    "Image source: https://www.express.co.uk/news/science/891328/asteroid-phaethon-orbit-geminid-meteor-shower-watch-greek-god-nasa"
   ]
  }
 ],
 "metadata": {
  "kernelspec": {
   "display_name": "Python 3",
   "language": "python",
   "name": "python3"
  },
  "language_info": {
   "codemirror_mode": {
    "name": "ipython",
    "version": 3
   },
   "file_extension": ".py",
   "mimetype": "text/x-python",
   "name": "python",
   "nbconvert_exporter": "python",
   "pygments_lexer": "ipython3",
   "version": "3.6.2"
  }
 },
 "nbformat": 4,
 "nbformat_minor": 2
}
